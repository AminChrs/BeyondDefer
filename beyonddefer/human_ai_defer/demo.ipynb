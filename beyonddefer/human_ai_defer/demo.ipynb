{
 "cells": [
  {
   "cell_type": "code",
   "execution_count": null,
   "id": "fe957e22-48ae-43c1-832e-ecb0982e2c83",
   "metadata": {},
   "outputs": [],
   "source": [
    "import torch\n",
    "from helpers.metrics import *\n",
    "from networks.linear_net import *\n",
    "import torch.optim as optim\n",
    "from datasetsdefer.hatespeech import *\n",
    "from methods.realizable_surrogate import *\n",
    "import os\n"
   ]
  },
  {
   "cell_type": "code",
   "execution_count": null,
   "id": "58a0d346-1131-4610-aa65-a95919a293fb",
   "metadata": {},
   "outputs": [],
   "source": [
    "device = torch.device(\"cuda:0\" if torch.cuda.is_available() else \"cpu\")\n",
    "optimizer = optim.Adam\n",
    "scheduler = None\n",
    "lr = 1e-2\n",
    "total_epochs = 50 \n",
    "# generate data\n",
    "dataset = HateSpeech(\"data\", True, False, 'random_annotator', device)\n",
    "model = LinearNet(dataset.d, 4).to(device)\n",
    "# instatiate method\n",
    "RS = RealizableSurrogate(1, 300, model, device, True)\n",
    "RS.fit_hyperparam(\n",
    "    dataset.data_train_loader,\n",
    "    dataset.data_val_loader,\n",
    "    dataset.data_test_loader,\n",
    "    epochs=total_epochs,\n",
    "    optimizer=optimizer,\n",
    "    scheduler=scheduler,\n",
    "    lr=lr,\n",
    "    verbose=False,\n",
    "    test_interval=5,\n",
    ")\n",
    "rs_metrics = compute_deferral_metrics(RS.test(dataset.data_test_loader))"
   ]
  }
 ],
 "metadata": {
  "kernelspec": {
   "display_name": "Python 3 (ipykernel)",
   "language": "python",
   "name": "python3"
  },
  "language_info": {
   "codemirror_mode": {
    "name": "ipython",
    "version": 3
   },
   "file_extension": ".py",
   "mimetype": "text/x-python",
   "name": "python",
   "nbconvert_exporter": "python",
   "pygments_lexer": "ipython3",
   "version": "3.8.5"
  }
 },
 "nbformat": 4,
 "nbformat_minor": 5
}
