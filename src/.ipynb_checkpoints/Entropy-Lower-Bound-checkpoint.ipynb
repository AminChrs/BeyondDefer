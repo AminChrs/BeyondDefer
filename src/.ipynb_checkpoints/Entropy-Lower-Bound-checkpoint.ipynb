{
 "cells": [
  {
   "cell_type": "code",
   "execution_count": 2,
   "id": "77c2fb95",
   "metadata": {},
   "outputs": [],
   "source": [
    "import cvxpy as cp\n",
    "import numpy as np"
   ]
  },
  {
   "cell_type": "markdown",
   "id": "5fe0bb41",
   "metadata": {},
   "source": [
    "**Problem**\n",
    "\n",
    "$\\min_{p_1, p_2, ..., p_n} \\sum_{i=1}^{n} -p_i \\log_2{p_i} \n",
    "\\\\\n",
    "\\text{s.b.} \\ \\ \\  0 \\le p_{i} \\le p_{i+1} : i \\in \\{1,....,n-1\\}\n",
    "\\\\\n",
    "\\ \\ \\ \\ \\ \\ \\ \\ p_n \\le cp_1\n",
    "\\\\\n",
    "\\ \\ \\ \\ \\ \\ \\ \\ \\sum_{i=1}^{n} p_i = 1\n",
    "$\n",
    "\n",
    "\n",
    "**Solution**\n",
    "\n",
    "Using k.k.t we have:\n",
    "\n",
    "$\n",
    "\n",
    "$"
   ]
  },
  {
   "cell_type": "code",
   "execution_count": 11,
   "id": "488e1fc2",
   "metadata": {},
   "outputs": [
    {
     "data": {
      "text/plain": [
       "1.7917594591815245"
      ]
     },
     "execution_count": 11,
     "metadata": {},
     "output_type": "execute_result"
    }
   ],
   "source": [
    "n = 6\n",
    "c = 20\n",
    "\n",
    "# variables\n",
    "p = cp.Variable(n)\n",
    "\n",
    "# constraints\n",
    "constraints = []\n",
    "constraints.append(p[0] >= 0)\n",
    "for i in range(n-1):\n",
    "    constraints.append(p[i] <= p[i+1])\n",
    "constraints.append(p[n-1] <= c * p[0])\n",
    "constraints.append(cp.sum(p) == 1)\n",
    "\n",
    "# solution\n",
    "obj = cp.Maximize(cp.sum(cp.entr(p)))\n",
    "prob = cp.Problem(obj, constraints)\n",
    "prob.solve()"
   ]
  },
  {
   "cell_type": "code",
   "execution_count": 12,
   "id": "8ad17af9",
   "metadata": {},
   "outputs": [
    {
     "data": {
      "text/plain": [
       "array([0.1666389 , 0.16665303, 0.16666276, 0.16667153, 0.1666808 ,\n",
       "       0.16669298])"
      ]
     },
     "execution_count": 12,
     "metadata": {},
     "output_type": "execute_result"
    }
   ],
   "source": [
    "p.value"
   ]
  },
  {
   "cell_type": "code",
   "execution_count": null,
   "id": "f719f641",
   "metadata": {},
   "outputs": [],
   "source": []
  }
 ],
 "metadata": {
  "kernelspec": {
   "display_name": "Python 3 (ipykernel)",
   "language": "python",
   "name": "python3"
  },
  "language_info": {
   "codemirror_mode": {
    "name": "ipython",
    "version": 3
   },
   "file_extension": ".py",
   "mimetype": "text/x-python",
   "name": "python",
   "nbconvert_exporter": "python",
   "pygments_lexer": "ipython3",
   "version": "3.11.3"
  }
 },
 "nbformat": 4,
 "nbformat_minor": 5
}
