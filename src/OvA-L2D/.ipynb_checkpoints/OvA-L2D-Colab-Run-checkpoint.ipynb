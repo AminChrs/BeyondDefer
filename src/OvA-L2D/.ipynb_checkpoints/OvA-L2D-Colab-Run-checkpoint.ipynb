{
 "cells": [
  {
   "cell_type": "code",
   "execution_count": 1,
   "id": "2e6809a3",
   "metadata": {},
   "outputs": [
    {
     "name": "stdout",
     "output_type": "stream",
     "text": [
      "test\r\n"
     ]
    }
   ],
   "source": [
    "!git clone https://github.com/rajevv/OvA-L2D.git\n",
    "!mkdir OvA-L2D/Data"
   ]
  },
  {
   "cell_type": "code",
   "execution_count": null,
   "id": "ab16f374",
   "metadata": {},
   "outputs": [],
   "source": [
    "!wget https://www.cs.toronto.edu/~kriz/cifar-10-python.tar.gz\n",
    "!tar -xzvf cifar-10-python.tar.gz\n",
    "!mkdir OvA-L2D/Data/cifar\n",
    "!mv cifar-10-batches-py OvA-L2D/Data/cifar/\n",
    "!rm -r cifar-10-python.tar.gz\n",
    "!pip install ddu_dirty_mnist"
   ]
  },
  {
   "cell_type": "code",
   "execution_count": null,
   "id": "5477abb7",
   "metadata": {},
   "outputs": [],
   "source": [
    "!cd OvA-L2D && python main.py --loss_type ova"
   ]
  }
 ],
 "metadata": {
  "kernelspec": {
   "display_name": "Python 3 (ipykernel)",
   "language": "python",
   "name": "python3"
  },
  "language_info": {
   "codemirror_mode": {
    "name": "ipython",
    "version": 3
   },
   "file_extension": ".py",
   "mimetype": "text/x-python",
   "name": "python",
   "nbconvert_exporter": "python",
   "pygments_lexer": "ipython3",
   "version": "3.11.3"
  }
 },
 "nbformat": 4,
 "nbformat_minor": 5
}
